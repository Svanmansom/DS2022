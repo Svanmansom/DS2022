{
 "cells": [
  {
   "cell_type": "markdown",
   "metadata": {},
   "source": [
    "# Assignment Data Science"
   ]
  },
  {
   "cell_type": "markdown",
   "metadata": {},
   "source": [
    "## Notebook made by\n",
    "\n",
    "**Gebruik graag dit formaat**\n",
    "\n",
    "* Voor de namen:  voornaam rest van je naam, voornaam rest van je naam,....\n",
    "* je studentnummers: hetzelfde: scheidt met `,`\n",
    "* je emails: hetzelfde: scheidt met `,`\n",
    "* voor je groep: alleen de hoofdletter (dus voor de groep van Marx zou je `A` kiezen)\n",
    "\n",
    "__Groepsnaam__: TeamEenmansleger\n",
    "\n",
    "__Namen__:Anoniem",
    "\n",
    "__Emails__:Anoniem",
    "\n",
    "__Student id__:Anoniem",
    "\n",
    "__Groep__ : B"
   ]
  },
  {
   "cell_type": "markdown",
   "metadata": {},
   "source": [
    "## Toelichting\n",
    "\n",
    "* De meeste opgaven worden automatisch nagekeken. Bij vrijwel alle opdrachten staan er een paar zichtbare tests onder de opdracht, dit is voornamelijk om te zorgen dat je de juiste type output geeft. De andere tests worden na inleveren toegevoegd aan die cell.\n",
    "\n",
    "## Voor het inleveren!\n",
    "\n",
    "* Pas niet de cellen aan, vooral niet die je niet kunt editen. Dit levert problemen op bij nakijken. Twijfel je of je per ongeluk iets hebt gewijzigd, kopieer dan bij inleveren je antwoorden naar een nieuw bestand, zodat het niet fout kan gaan.\n",
    "\n",
    "* Zorg dat de code goed runt van boven naar beneden, verifieer dat door boven in Kernel -> Restart & Run All uit te voeren"
   ]
  },
  {
   "cell_type": "markdown",
   "metadata": {
    "toc": true
   },
   "source": [
    "<h1>Table of Contents<span class=\"tocSkip\"></span></h1>\n",
    "<div class=\"toc\"><ul class=\"toc-item\"><li><span><a href=\"#Week-1\" data-toc-modified-id=\"Week-1-1\"><span class=\"toc-item-num\">1&nbsp;&nbsp;</span>Week 1</a></span></li><li><span><a href=\"#Deel-1-Quizmaster-paradox-(2pt)\" data-toc-modified-id=\"Deel-1-Quizmaster-paradox-(2pt)-2\"><span class=\"toc-item-num\">2&nbsp;&nbsp;</span>Deel 1 Quizmaster paradox (2pt)</a></span><ul class=\"toc-item\"><li><span><a href=\"#Verschil-tussen-theoretische-kans-en-de-experimentele-kans-om-te-winnen.\" data-toc-modified-id=\"Verschil-tussen-theoretische-kans-en-de-experimentele-kans-om-te-winnen.-2.1\"><span class=\"toc-item-num\">2.1&nbsp;&nbsp;</span>Verschil tussen theoretische kans en de experimentele kans om te winnen.</a></span></li><li><span><a href=\"#significant?\" data-toc-modified-id=\"significant?-2.2\"><span class=\"toc-item-num\">2.2&nbsp;&nbsp;</span>significant?</a></span></li></ul></li><li><span><a href=\"#Deel-2:-Log-normal-distribution-of-Wikipedia\" data-toc-modified-id=\"Deel-2:-Log-normal-distribution-of-Wikipedia-3\"><span class=\"toc-item-num\">3&nbsp;&nbsp;</span>Deel 2: Log normal distribution of Wikipedia</a></span><ul class=\"toc-item\"><li><span><a href=\"#Vraag-W1--(5pts)\" data-toc-modified-id=\"Vraag-W1--(5pts)-3.1\"><span class=\"toc-item-num\">3.1&nbsp;&nbsp;</span>Vraag W1  (5pts)</a></span></li><li><span><a href=\"#Vraag-W2-(1pt)\" data-toc-modified-id=\"Vraag-W2-(1pt)-3.2\"><span class=\"toc-item-num\">3.2&nbsp;&nbsp;</span>Vraag W2 (1pt)</a></span></li></ul></li><li><span><a href=\"#Deel-3:-theorie\" data-toc-modified-id=\"Deel-3:-theorie-4\"><span class=\"toc-item-num\">4&nbsp;&nbsp;</span>Deel 3: theorie</a></span><ul class=\"toc-item\"><li><span><a href=\"#Variant\" data-toc-modified-id=\"Variant-4.1\"><span class=\"toc-item-num\">4.1&nbsp;&nbsp;</span>Variant</a></span></li></ul></li><li><span><a href=\"#Deel-4-Corona:-Wat-is-erger:-besmettelijkheid-of-dodelijkheid?\" data-toc-modified-id=\"Deel-4-Corona:-Wat-is-erger:-besmettelijkheid-of-dodelijkheid?-5\"><span class=\"toc-item-num\">5&nbsp;&nbsp;</span>Deel 4 Corona: Wat is erger: besmettelijkheid of dodelijkheid?</a></span><ul class=\"toc-item\"><li><span><a href=\"#Klopt-het-wel?-(1pt)\" data-toc-modified-id=\"Klopt-het-wel?-(1pt)-5.1\"><span class=\"toc-item-num\">5.1&nbsp;&nbsp;</span>Klopt het wel? (1pt)</a></span></li><li><span><a href=\"#Aangepast-dataframe-(1pt)\" data-toc-modified-id=\"Aangepast-dataframe-(1pt)-5.2\"><span class=\"toc-item-num\">5.2&nbsp;&nbsp;</span>Aangepast dataframe (1pt)</a></span></li></ul></li></ul></div>"
   ]
  },
  {
   "cell_type": "markdown",
   "metadata": {
    "deletable": false,
    "editable": false,
    "nbgrader": {
     "cell_type": "markdown",
     "checksum": "2acaa9e7dd17544b1ea8f2794526020b",
     "grade": false,
     "grade_id": "cell-00d205dfa8952cea",
     "locked": true,
     "schema_version": 3,
     "solution": false
    }
   },
   "source": [
    "# Week 1\n",
    "\n",
    "* Elke vraag is 1 punt waard, tenzij anders aangegeven."
   ]
  },
  {
   "cell_type": "code",
   "execution_count": null,
   "metadata": {
    "deletable": false,
    "editable": false,
    "nbgrader": {
     "cell_type": "code",
     "checksum": "34b51225ca202554a405fbd7fe986c6d",
     "grade": false,
     "grade_id": "cell-d6a3a3f914815eb2",
     "locked": true,
     "schema_version": 3,
     "solution": false
    }
   },
   "outputs": [],
   "source": [
    "import bz2\n",
    "import codecs\n",
    "import os\n",
    "import random\n",
    "import re\n",
    "from collections import Counter, defaultdict\n",
    "\n",
    "import matplotlib.pyplot as plt\n",
    "import numpy as np\n",
    "import pandas as pd\n",
    "import seaborn as sn\n",
    "from bs4 import BeautifulSoup\n",
    "from nose.tools import assert_almost_equal, assert_equal\n",
    "from tqdm import notebook\n",
    "\n",
    "%matplotlib inline"
   ]
  },
  {
   "cell_type": "markdown",
   "metadata": {
    "deletable": false,
    "editable": false,
    "nbgrader": {
     "cell_type": "markdown",
     "checksum": "d567b29cb6698d1469daac948e65f329",
     "grade": false,
     "grade_id": "cell-1b56b766b5ec7ba6",
     "locked": true,
     "schema_version": 3,
     "solution": false
    }
   },
   "source": [
    "# Deel 1 Quizmaster paradox (2pt)\n",
    "\n",
    "\n",
    "Hier is een leuk en misschien verrassend statistisch raadsel, en een goede manier om wat te oefenen met het schrijven van python-functies.\n",
    "\n",
    "In een gameshow proberen deelnemers te raden welke van de 3 gesloten deuren een geldprijs bevatten (geiten zitten achter de andere twee deuren). Natuurlijk, de kans om de juiste deur te kiezen is 1 op 3. Als een twist opent de gastheer van de show af en toe een deur nadat een deelnemer zijn of haar keuze heeft gemaakt. Deze deur is altijd een van de twee die de deelnemer niet heeft gekozen, en is ook altijd een van de geitendeuren (merk op dat het altijd mogelijk is om dit te doen, aangezien er twee geitendeuren zijn). Op dit punt heeft de deelnemer de mogelijkheid om zijn of haar oorspronkelijke keuze te behouden, of naar de andere ongeopende deur te switchen. De vraag is: is er een voordeel bij het wisselen van deuren? Het antwoord verrast veel mensen die de vraag nog niet eerder hebben gehoord.\n",
    "\n",
    "We kunnen het probleem oplossen door simulaties uit te voeren in Python. \n",
    "In onderstaande 2 cellen wordt dat gedaan. Het `experiment` deel is al geprogrammeerd. Jij moet de functie `speel` afmaken. Het eerste stukje hebben we al voor je geprogrammeerd.  Die moet dus werken voor elk aantal deuren (van minstens 3), en ook in 2 varianten.\n",
    "\n",
    "**HINTS**\n",
    "1. Gebruik set theory operaties (als `-,|,&`) om handig deuren uit te sluiten of toe te voegen.\n",
    "2. Je kunt met `np.random.choice` ook meerdere items uit een lijst tegelijk pakken.\n",
    "3. Zorg dat je het probleem begrijpt. Het is echt lastig hoor! Maar er over denken met meerdere deuren en met de twee manieren van openen (bij meer deuren dan 3 speelt dat) helpt je het te snappen.\n",
    "4. Bij mijn implementatie kreeg ik pas een mooie grafiek te zien bij N=10.000. Maar dat duurt net wat langer. De trend is al wel heel goed zichtbaar bij N=100."
   ]
  },
  {
   "cell_type": "code",
   "execution_count": null,
   "metadata": {
    "deletable": false,
    "nbgrader": {
     "cell_type": "code",
     "checksum": "1dda147a78962a2ace5f9488c2526f70",
     "grade": false,
     "grade_id": "qmb",
     "locked": false,
     "schema_version": 3,
     "solution": true
    }
   },
   "outputs": [],
   "source": [
    "def speel(aantaldeuren=3, soort='eentje'):\n",
    "    '''Return True als je de prijs wint bij wisselen; anders False.\n",
    "    Bij soort=eentje openen we 1 deur. Anders openen we ze allemaal behalve 2.\n",
    "    We openen nooit de gekozen deur of de deur waar de prijs achter zit.'''\n",
    "    deuren = set(np.arange(aantaldeuren))\n",
    "    prijs_deur = np.random.choice(list(deuren))\n",
    "    gekozen_deur = np.random.choice(list(deuren))\n",
    "    \n",
    "    if soort == 'eentje':    \n",
    "        # quizmaster opent deur, en die valt af uit nieuwe keuzes voor deelnemer\n",
    "        afgevallen_deur = np.random.choice(list(deuren - {prijs_deur, gekozen_deur}))\n",
    "        \n",
    "        # nieuwe deur wordt gekozen voor deelnemer\n",
    "        gekozen_deur2 = np.random.choice(list(deuren - {gekozen_deur, afgevallen_deur}))\n",
    "        \n",
    "        # check voor winst na wisselen van deur\n",
    "        return gekozen_deur2 == prijs_deur\n",
    "\n",
    "    else:\n",
    "        # deelnemer wint alleen als hij niet de winnende deur had gekozen in eerste instantie\n",
    "        return prijs_deur != gekozen_deur\n",
    "\n",
    "\n",
    "def experiment(aantaldeuren=3, soort='eentje', N=10**4):\n",
    "    '''Run N keer het experiment van type soort met aantaldeuren, en geef voor elk aantal deuren, de gemiddelde win kans.'''\n",
    "    return np.array([speel(aantaldeuren, soort) for _ in range(N)]).mean()"
   ]
  },
  {
   "cell_type": "code",
   "execution_count": null,
   "metadata": {},
   "outputs": [],
   "source": [
    "# HIERMEE RUNNEN WE N KEER VOOR ELK AANTAL DEUREN TUSSEN 3 EN aantaldeuren HET EXPEREIMENT, STEEDS\n",
    "# VOOR HET OPENEN VAN 1 EN VAN ALLE BEHALVE 1 DEUR.\n",
    "def data(N=1000, aantaldeuren=21):\n",
    "    '''Run het experiment voor elk aantal deuren tussen 3 en aantaldeuren N keer'''\n",
    "    uitkomsten = {\n",
    "        D: {\n",
    "            'eentje_open': experiment(D, 'eentje', N),\n",
    "            'alle_behalve_eentje': experiment(D, 'alle_behalve_eentje', N)\n",
    "        }\n",
    "        for D in range(3, aantaldeuren)\n",
    "    }\n",
    "    return uitkomsten\n",
    "\n",
    "\n",
    "# NU MAKEN WE ER EEN PANDAS DATAFRAME VAN EN PLOTTEN HET.\n",
    "# BEKIJK ZELF df EENS IN EEN NIEUWE CEL.\n",
    "df = pd.DataFrame(data(10**4)).T\n",
    "df.index.name = 'aantal deuren'\n",
    "Titel = 'Kans om de prijs te winnen bij switchen bij N deuren.'\n",
    "df.plot(kind='bar', title=Titel);"
   ]
  },
  {
   "cell_type": "code",
   "execution_count": null,
   "metadata": {
    "deletable": false,
    "editable": false,
    "nbgrader": {
     "cell_type": "code",
     "checksum": "1c03ff95049434bf2a69151646959551",
     "grade": true,
     "grade_id": "qmt",
     "locked": true,
     "points": 1,
     "schema_version": 3,
     "solution": false
    }
   },
   "outputs": [],
   "source": [
    "df = pd.DataFrame(data(10**3)).T\n",
    "assert df.shape == (18, 2)\n",
    "assert set(df.columns) == {'alle_behalve_eentje', 'eentje_open'}"
   ]
  },
  {
   "cell_type": "markdown",
   "metadata": {
    "deletable": false,
    "editable": false,
    "nbgrader": {
     "cell_type": "markdown",
     "checksum": "ca688ce4611879a0c3839da1b6295250",
     "grade": false,
     "grade_id": "cell-8f2fec013f4aefdb",
     "locked": true,
     "schema_version": 3,
     "solution": false
    }
   },
   "source": [
    "## Verschil tussen theoretische kans en de experimentele kans om te winnen.\n",
    "\n",
    "Nu snap je vast het probleem heel goed (.....). Vooral na het laatste plaatje. Nou, dan kan je ook de theoretische kansen om te winnen na switchen voor N deuren wel berekenen toch?\n",
    "\n",
    "Doe dat dan maar. Weer voor de twee gevallen.\n",
    "\n",
    "We vragen om 2 arrays van lengte 18 waarin je voor elk aantal deuren in `range(3,21)` de kans berekent dat je wint na switchen. Voor de beide gevallen. \n",
    "\n",
    "Bij het nakijken van de vorige vraag gaan we jouw experimentele antwoorden vergelijken met de juiste theoretische kansen. Bij N=1000 verwachten we per deur alleen verschillen kleiner dan 5%. Heb je die zelf ook?"
   ]
  },
  {
   "cell_type": "code",
   "execution_count": null,
   "metadata": {
    "code_folding": [],
    "deletable": false,
    "nbgrader": {
     "cell_type": "code",
     "checksum": "77808821761fe0ca16084d5bca24ba1c",
     "grade": false,
     "grade_id": "Vraag1",
     "locked": false,
     "schema_version": 3,
     "solution": true
    }
   },
   "outputs": [],
   "source": [
    "# kans dat winnende deur wordt geopend:\n",
    "# (alle deuren - gekozen deur) / alle deuren / (alle deuren - winnende deur - gekozen deur)\n",
    "Kans_eentje_open = np.array([((N - 1) / N / (N - 2)) for N in range(3, 21)])\n",
    "\n",
    "# kans dat winnende deur wordt geopend:\n",
    "# (alle deuren - gekozen deur) / alle deuren\n",
    "Kans_alle_behalve_eentje_open = np.array([((N - 1) / N) for N in range(3, 21)])\n",
    "\n",
    "\n",
    "# Nu berekenen we de verschillen in uitkomsten tussen die we vinden in jouw experiment (dat staat in df) \n",
    "# en jouw theoretusche kans.\n",
    "# Bij mij was het gemiddelde verschil over al die deuren 0.008 en 0.007\n",
    "Errors = {\n",
    "    'alle_behalve_eentje':\n",
    "    abs(df.alle_behalve_eentje.values - Kans_alle_behalve_eentje_open),\n",
    "    'eentje_open':\n",
    "    abs(df.eentje_open.values - Kans_eentje_open)\n",
    "}\n",
    "\n",
    "# Maak een dataframe van die dict\n",
    "Errors = pd.DataFrame(Errors)\n",
    "Errors.index = df.index\n",
    "\n",
    "print(Errors.describe())\n",
    "Errors.plot(\n",
    "    kind='bar',\n",
    "    title=\n",
    "    'Verschil tussen theoretische kans en de experimentele kans om te winnen.')\n",
    "plt.show()"
   ]
  },
  {
   "cell_type": "code",
   "execution_count": null,
   "metadata": {
    "code_folding": [],
    "deletable": false,
    "editable": false,
    "nbgrader": {
     "cell_type": "code",
     "checksum": "74d5d3c38725a17e51b5db68a2da1aca",
     "grade": true,
     "grade_id": "Vraag1_antwoord",
     "locked": true,
     "points": 1,
     "schema_version": 3,
     "solution": false
    }
   },
   "outputs": [],
   "source": [
    "assert len(Kans_eentje_open) == len(Kans_alle_behalve_eentje_open) == 18\n"
   ]
  },
  {
   "cell_type": "markdown",
   "metadata": {
    "deletable": false,
    "editable": false,
    "nbgrader": {
     "cell_type": "markdown",
     "checksum": "9f4d18e2cfc7fb0cfb467e849fe78444",
     "grade": false,
     "grade_id": "Vraag1a",
     "locked": true,
     "schema_version": 3,
     "solution": false
    }
   },
   "source": [
    "## significant?\n",
    "\n",
    "Laten we hopen dat het verschil tussen jouw theoretische kans en je experimentele kans niet significant is, want dan is er vast iets mis met 1 van beide. \n",
    "\n",
    "Nou dat is een mooie test op jezelf, dan toch? \n",
    "\n",
    "Dus doe een student T-test, en beschrijf wat de uitkomst betekent. Moet ie nou one- of two-sided?"
   ]
  },
  {
   "cell_type": "code",
   "execution_count": null,
   "metadata": {
    "deletable": false,
    "nbgrader": {
     "cell_type": "code",
     "checksum": "3f9d32a5236ad8e00ab535de4d053695",
     "grade": true,
     "grade_id": "Vraag1aa",
     "locked": false,
     "points": 1,
     "schema_version": 3,
     "solution": true
    }
   },
   "outputs": [],
   "source": [
    "from scipy import stats\n",
    "\n",
    "# maak dict met uitkomsten\n",
    "Compare = {\n",
    "    'daadwerkelijke_alle_behalve_eentje': df.alle_behalve_eentje.values, \n",
    "    'kans_alle_behalve_eentje': Kans_alle_behalve_eentje_open,\n",
    "    'daadwerkelijke_eentje_open': df.eentje_open.values, \n",
    "    'kans_eentje_open': Kans_eentje_open\n",
    "}\n",
    "\n",
    "# maak een dataframe van die dict\n",
    "Compare = pd.DataFrame(Compare)\n",
    "Compare.index = df.index\n",
    "\n",
    "# voer t-tests uit op beide versies\n",
    "ttest_alles_behalve_eentje = stats.ttest_ind(Compare['daadwerkelijke_alle_behalve_eentje'], \n",
    "                                             Compare['kans_alle_behalve_eentje'], equal_var=True)\n",
    "ttest_eentje_open = stats.ttest_ind(Compare['daadwerkelijke_eentje_open'], \n",
    "                                    Compare['kans_eentje_open'], equal_var=True)\n",
    "\n",
    "display(Compare.head())\n",
    "ttest_alles_behalve_eentje, ttest_eentje_open\n",
    "\n",
    "# both p values are > .05 which means that there is no significant different in groups"
   ]
  },
  {
   "cell_type": "markdown",
   "metadata": {
    "deletable": false,
    "editable": false,
    "nbgrader": {
     "cell_type": "markdown",
     "checksum": "8f900f5a32e4801ef5948f152cdccd85",
     "grade": false,
     "grade_id": "cell-b861879b84e2d30a",
     "locked": true,
     "schema_version": 3,
     "solution": false
    },
    "slideshow": {
     "slide_type": "slide"
    }
   },
   "source": [
    "# Deel 2: Log normal distribution of Wikipedia\n",
    "\n",
    "1. Lees het artikel van Jake van der Plas over de [\"line lengths in Python modules\"](http://jakevdp.github.io/blog/2017/11/09/exploring-line-lengths-in-python-packages)\n",
    "2. In dit deel gaan we iets vergelijkbaars doen, alleen dan met de Nederlandse Wikipedia.\n",
    "\n",
    "4. We are interested in the following things:\n",
    "    1. distribution of line lengths on the Dutch Wikipedia (measured in number of characters)\n",
    "    2. distribution of article (called pages in the dump) lengths on the Dutch Wikipedia (measured in number of lines)\n",
    "    3. distribution of article (called pages in the dump) lengths on the Dutch Wikipedia (measured  in number of characters)\n",
    "5. Your task is to find out if they follow a lognormal distribution."
   ]
  },
  {
   "cell_type": "code",
   "execution_count": null,
   "metadata": {
    "deletable": false,
    "editable": false,
    "nbgrader": {
     "cell_type": "code",
     "checksum": "dafdfcdd28c0abb9c9449ba7d23cda4f",
     "grade": false,
     "grade_id": "cell-5ea6ebc7ceb72c5e",
     "locked": true,
     "schema_version": 3,
     "solution": false
    }
   },
   "outputs": [],
   "source": [
    "def loadfile():\n",
    "    if 'Wikipedia.bz2' in os.listdir():\n",
    "        return 'Wikipedia.bz2'\n",
    "    elif os.path.exists('../../data/Week1/'):\n",
    "        return '../../data/Week1/Wikipedia.bz2'\n",
    "    elif os.path.exists('../../../data/Week1/'):\n",
    "        return '../../../data/Week1/Wikipedia.bz2'"
   ]
  },
  {
   "cell_type": "markdown",
   "metadata": {
    "deletable": false,
    "editable": false,
    "nbgrader": {
     "cell_type": "markdown",
     "checksum": "418b2be19d9f0b295d9b29e4440e8ee3",
     "grade": false,
     "grade_id": "cell-8091835920bf9491",
     "locked": true,
     "schema_version": 3,
     "solution": false
    }
   },
   "source": [
    "## Vraag W1  (5pts)\n",
    "\n",
    "Vul de code in de cell aan zodat je voor de file de volgende metrieken krijgt:\n",
    "* `char_list`, een lijst met lengtes van de alle Wikipediapages, uitgedrukt in het aantal karakters \n",
    "    * Dus als er `n` Wikipediapaginas zijn, heeft deze lijst lengte `n`.\n",
    "* `lines_list`, een lijst met lengtes van  alle Wikipediapages, uitgedrukt in het aantal regels\n",
    "    * Dus als er `n` Wikipediapaginas zijn, heeft deze lijst lengte `n`.\n",
    "* `lines_lens`, een lijst met de lengtes van alle regels op Wikipedia, uitgedrukt in het aantal karakters \n",
    "    * de lengte van deze lijst is dus de som van alle elementen in de vorige lijst.\n",
    "\n",
    "De functie `wikipedia_distribution()` bevat ook de variabele `clean`, die True of False is. Bij `True` moeten irrelevant karakters, zoals HTML weggehaald worden.\n",
    "    \n",
    "Opmerkingen:\n",
    "* Het is belangrijk dat je efficiënte code schrijft. Het is een groot bestand, en je wil dat het niet te lang duurt.\n",
    "* Negeer regels die na cleanen 0 karakters over hebben.\n",
    "* Een regel (*line*) is alle tekst tot aan een `\\n` karakter. Dus echt een regel zoals op een typemachine. Als je een file regel voor regel leest heb je precies de `line`s die we hier bedoelen."
   ]
  },
  {
   "cell_type": "code",
   "execution_count": null,
   "metadata": {
    "deletable": false,
    "nbgrader": {
     "cell_type": "code",
     "checksum": "46b542c6ab667568c28da1d715fa455d",
     "grade": false,
     "grade_id": "cell-930934950b6b5842",
     "locked": false,
     "schema_version": 3,
     "solution": true
    }
   },
   "outputs": [],
   "source": [
    "# voor het cleanen (enkel HTML tags verwijderen)\n",
    "CLEANR = re.compile('<.*?>') \n",
    "\n",
    "def wikipedia_distribution(file, clean=True):\n",
    "    with bz2.open(file, encoding=\"utf8\", mode='rt') as source_file:        \n",
    "        # creëer de lijsten\n",
    "        char_list = []\n",
    "        lines_list = []\n",
    "        lines_lens = []\n",
    "        \n",
    "        # staat: laatst gezien is einde pagina (om nieuwe te kunnen tracen)\n",
    "        state = 0\n",
    "        \n",
    "        # zet de tellers per wikipagina op nul\n",
    "        chars_per_page = 0\n",
    "        lines_per_page = 0\n",
    "        \n",
    "        # itereer over regels\n",
    "        for line in notebook.tqdm(source_file):          \n",
    "            # begin pagina gevonden\n",
    "            if '<page>' in line:\n",
    "                # en laatste was pagina einde\n",
    "                if state == 0:\n",
    "                    # dan page begin gevonden\n",
    "                    state = 1\n",
    "                # als laatste was pagina begin -> onvolledige pagina\n",
    "                else:\n",
    "                    # reset paginalengte\n",
    "                    chars_per_page = 0\n",
    "                    lines_per_page = 0\n",
    "            \n",
    "            # als in pagina zit\n",
    "            if state == 1:\n",
    "                # als er schoongemaakt moet worden\n",
    "                if clean:\n",
    "                    # voeg schoongemaakte lengte toe\n",
    "                    chars_per_page += len(re.sub(CLEANR, '', line))\n",
    "                    lines_per_page += 1\n",
    "                    lines_lens.append(len(re.sub(CLEANR, '', line)))\n",
    "                else:\n",
    "                    # anders voeg lengte toe\n",
    "                    chars_per_page += len(line)\n",
    "                    lines_per_page += 1\n",
    "                    lines_lens.append(len(line))\n",
    "                \n",
    "            # einde pagina gevonden\n",
    "            if '</page>' in line:\n",
    "                # en laatste was pagina begin\n",
    "                if state == 1:\n",
    "                    # voeg totale lengte toe aan list\n",
    "                    char_list.append(chars_per_page)\n",
    "                    lines_list.append(lines_per_page)\n",
    "                # reset paginalengte\n",
    "                chars_per_page = 0\n",
    "                lines_per_page = 0\n",
    "                # eind pagina gevonden\n",
    "                state = 0\n",
    "                \n",
    "        return char_list, lines_list, lines_lens\n",
    "\n",
    "# maak de lijsten\n",
    "lijsten = wikipedia_distribution(loadfile(), clean=True)\n",
    "\n",
    "# bereken sommen en lengtes\n",
    "sommen = [sum(lijst) for lijst in lijsten]\n",
    "lengtes = [len(lijst) for lijst in lijsten]\n",
    "\n",
    "# maak er een dataframe van voor de duidelijkheid\n",
    "pd.DataFrame(data = {\"sum\": sommen, \"lenght\": lengtes}, \n",
    "             columns = [\"sum\", \"lenght\"], \n",
    "             index = [\"char_list\", \"lines_list\", \"lines_lens\"])"
   ]
  },
  {
   "cell_type": "markdown",
   "metadata": {
    "deletable": false,
    "editable": false,
    "nbgrader": {
     "cell_type": "markdown",
     "checksum": "eb3d14220c68351935fbd36e6b43ac44",
     "grade": false,
     "grade_id": "cell-627be6b6d94d6a03",
     "locked": true,
     "schema_version": 3,
     "solution": false
    }
   },
   "source": [
    "Eerst even kijken naar het resultaat zonder cleaning"
   ]
  },
  {
   "cell_type": "code",
   "execution_count": null,
   "metadata": {
    "deletable": false,
    "editable": false,
    "nbgrader": {
     "cell_type": "code",
     "checksum": "cb1ba381664dedbbebb705b803ba929f",
     "grade": true,
     "grade_id": "Vraag10_antwoordA",
     "locked": true,
     "points": 1,
     "schema_version": 3,
     "solution": false
    }
   },
   "outputs": [],
   "source": [
    "char_list, lines_list, lines_lens = wikipedia_distribution(loadfile(), clean=False)\n",
    "\n",
    "assert_equal(type(char_list), list)\n",
    "assert_equal(type(lines_list), list)\n",
    "assert_equal(type(lines_lens), list)\n",
    "\n",
    "f, axes = plt.subplots(1, 3, figsize=(20, 5))\n",
    "\n",
    "sn.histplot(np.log10(char_list), kde=True, ax=axes[0])\n",
    "axes[0].set_title('Number of characters per page (log)')\n",
    "sn.histplot(np.log10(lines_list), kde=True, ax=axes[1])\n",
    "axes[1].set_title('Number of lines per page (log)')\n",
    "sn.histplot(np.log10(lines_lens), kde=True, ax=axes[2])\n",
    "axes[2].set_title('Linelengths (log)');\n"
   ]
  },
  {
   "cell_type": "code",
   "execution_count": null,
   "metadata": {
    "deletable": false,
    "editable": false,
    "nbgrader": {
     "cell_type": "code",
     "checksum": "4a4870074e0c212cabdde6a781fd9351",
     "grade": true,
     "grade_id": "Vraag10_AntwoordB",
     "locked": true,
     "points": 1,
     "schema_version": 3,
     "solution": false
    }
   },
   "outputs": [],
   "source": [
    "# testcell"
   ]
  },
  {
   "cell_type": "markdown",
   "metadata": {
    "deletable": false,
    "editable": false,
    "nbgrader": {
     "cell_type": "markdown",
     "checksum": "4ab3ac570ee62853383711acbce06f62",
     "grade": false,
     "grade_id": "cell-7d87da5d737f06c2",
     "locked": true,
     "schema_version": 3,
     "solution": false
    }
   },
   "source": [
    "En dan het resultaat met cleaning."
   ]
  },
  {
   "cell_type": "code",
   "execution_count": null,
   "metadata": {
    "deletable": false,
    "editable": false,
    "nbgrader": {
     "cell_type": "code",
     "checksum": "55315d778175699aca4acb155a553c59",
     "grade": true,
     "grade_id": "Vraag10_AntwoordC",
     "locked": true,
     "points": 1,
     "schema_version": 3,
     "solution": false
    }
   },
   "outputs": [],
   "source": [
    "char_list, lines_list, lines_lens = wikipedia_distribution(loadfile(), clean=True)\n",
    "\n",
    "assert_equal(type(char_list), list)\n",
    "assert_equal(type(lines_list), list)\n",
    "assert_equal(type(lines_lens), list)\n",
    "\n",
    "f, axes = plt.subplots(1, 3, figsize=(20, 5))\n",
    "\n",
    "sn.histplot(np.log10(char_list), kde=True, ax=axes[0])\n",
    "axes[0].set_title('Number of characters per page (log)')\n",
    "sn.histplot(np.log10(lines_list), kde=True, ax=axes[1])\n",
    "axes[1].set_title('Number of lines per page (log)')\n",
    "sn.histplot(np.log10(lines_lens), kde=True, ax=axes[2])\n",
    "axes[2].set_title('Linelengths (log)');"
   ]
  },
  {
   "cell_type": "code",
   "execution_count": null,
   "metadata": {
    "deletable": false,
    "editable": false,
    "nbgrader": {
     "cell_type": "code",
     "checksum": "92fba2c939527ee754050886a2823781",
     "grade": true,
     "grade_id": "cell-c5c0c02f3c8be674",
     "locked": true,
     "points": 1,
     "schema_version": 3,
     "solution": false
    }
   },
   "outputs": [],
   "source": [
    "# testcell"
   ]
  },
  {
   "cell_type": "code",
   "execution_count": null,
   "metadata": {
    "deletable": false,
    "editable": false,
    "nbgrader": {
     "cell_type": "code",
     "checksum": "8099804c7aa565cd47b05d36c8fb892e",
     "grade": true,
     "grade_id": "Vraag10_AntwoordD",
     "locked": true,
     "points": 1,
     "schema_version": 3,
     "solution": false
    }
   },
   "outputs": [],
   "source": []
  },
  {
   "cell_type": "markdown",
   "metadata": {
    "deletable": false,
    "editable": false,
    "nbgrader": {
     "cell_type": "markdown",
     "checksum": "d564a296a8e167129d34c7307ec0934c",
     "grade": false,
     "grade_id": "cell-11fea68cc266f6c5",
     "locked": true,
     "schema_version": 3,
     "solution": false
    }
   },
   "source": [
    "## Vraag W2 (1pt)\n",
    "Beantwoord de volgende vragen in onderstaande markdown cell:\n",
    "\n",
    "1. Did I remove enough/too much?\n",
    "\n",
    "2. Above are distribution plots.  Explain what we see, and whether the log-normal hypothesis seems true or not.\n",
    "\n",
    "3. (For yourself) Relate your findings to those of Jake van der Plas and possibly earlier work on lengths in statistical linguistics.\n",
    "\n",
    "\n",
    "**Curve fitting**\n",
    "\n",
    "Je kan de techniek die beschreven wordt in <https://towardsdatascience.com/basic-curve-fitting-of-scientific-data-with-python-9592244a2509> gebruiken om te kijken of je een Gaussian curve kunt fitten op de log waardes, en hoe goed dat fit. "
   ]
  },
  {
   "cell_type": "markdown",
   "metadata": {
    "deletable": false,
    "nbgrader": {
     "cell_type": "markdown",
     "checksum": "c15ea9a45dc8f456c320cda9d68fc8d2",
     "grade": true,
     "grade_id": "cell-e0ed1a05dce7585d",
     "locked": false,
     "points": 1,
     "schema_version": 3,
     "solution": true
    }
   },
   "source": [
    "1. Misschien heb ik niet genoeg weggehaald, maar ik zou niet weten wat er verder nog moet worden weggehaald om het verder op te schonen. Alle HTML tags worden in ieder geval verwijderd. \n",
    "\n",
    "2. We zien distributiefiguren waarin het aantal karakters per pagina, het aantal regels per pagina en de lengtes van de regels van Nederlandse Wikipediapagina's worden afgebeeld. De eerste twee lijken aardig overeen te komen met een log-normale distributie, afgezien van de piek aan het begin. Dit kan verklaard worden doordat er grofweg twee soorten wikipediapagina's zijn: korte van slechts een paar regels, en uitgebreidere pagina's die een stuk groter zijn qua aantal regels en karakters. Het zijn dus waarschijnlijk de lengtes van deze uitgebreidere pagina's die log-normaal verdeeld zijn. Bij de derde figuur is een log-normale verdeling lastig waar te nemen. Dit komt waarschijnlijk doordat er veel korte regels van nul, een half of één woord(en) in de pagina's staan, die door een betere schoonmaak gefilterd zouden kunnen worden. Ook is het hier lastiger om een log-normale verdeling waar te nemen omdat de x-as van deze plot niet op logaritmische schaal is. \n",
    "\n",
    "3. Waarschijnlijk zijn er (na opschonen) heel veel pagina's op het internet te vinden waarbij het aantal karakters en regels van de pagina's log-normaal verdeeld zijn. "
   ]
  },
  {
   "cell_type": "markdown",
   "metadata": {
    "deletable": false,
    "editable": false,
    "nbgrader": {
     "cell_type": "markdown",
     "checksum": "3d079c5e69a3895f200296b4b03dec4d",
     "grade": false,
     "grade_id": "d3",
     "locked": true,
     "schema_version": 3,
     "solution": false
    }
   },
   "source": [
    "# Deel 3: theorie\n",
    "\n",
    "Deze vragen gaan over precisie, recall en accuraatheid.\n",
    "\n",
    "Stel je hebt een ziekte die bij 1 op de 100 mensen voorkomt. En je hebt een test met een accuraatheid van .95. Dit laatste betekent dat je in 95% van de gevallen juist voorspelt of iemand de ziekte heeft of niet. Anders gezegd: de som van de elementen op de diagonaal van de confusion matrix gedeeld door het totaal aantal elementen is .95.\n",
    "\n",
    "1. Wat is de maximale(variabele `maxR`) en minimale (`minR`) *recall* voor de ziekte-klasse bij deze gegevens?\n",
    "2. Wat is de maximale (`maxP`) en minimale (`minP`) *precision* voor de ziekte-klasse bij deze gegevens?\n",
    "\n",
    "**Hint** Maak een confusion matrix waarin je verschillende settings uitprobeert. Zorg er steeds voor dat alles netjes optelt. "
   ]
  },
  {
   "cell_type": "code",
   "execution_count": null,
   "metadata": {
    "deletable": false,
    "nbgrader": {
     "cell_type": "code",
     "checksum": "2e494ad9bff67cdab933fc36345cbb47",
     "grade": false,
     "grade_id": "d3a",
     "locked": false,
     "schema_version": 3,
     "solution": true
    }
   },
   "outputs": [],
   "source": [
    "data = {\"has disease\": [\"100\", \"0\", \"100\"],\n",
    "        \"has no disease\": [\"500\", \"9400\", \"9900\"],\n",
    "        \"total\": [\"600\", \"9400\", \"10000\"]}\n",
    "df = pd.DataFrame(data, columns = [\"has disease\", \"has no disease\", \"total\"], \n",
    "                  index = [\"test positive\", \"test negative\", \"total\"])\n",
    "\n",
    "data2 = {\"has disease\": [\"0\", \"100\", \"100\"],\n",
    "        \"has no disease\": [\"400\", \"9500\", \"9900\"],\n",
    "        \"total\": [\"400\", \"9600\", \"10000\"]}\n",
    "df2 = pd.DataFrame(data2, columns = [\"has disease\", \"has no disease\", \"total\"], \n",
    "                  index = [\"test positive\", \"test negative\", \"total\"])\n",
    "\n",
    "minP = 0 / 400 # precisie (minimale legitiem positieve tests t.o.v. alle positieve tests)\n",
    "maxP = 100 / 600 # precisie (maximale legitiem positieve tests t.o.v. alle positieve tests)\n",
    "minR = 0 / 100 # recall (minimale legitiem zieken t.o.v. alle ziek geclassificeerden)\n",
    "maxR = 100 / 100 # recall (maximale legitiem zieken t.o.v. alle ziek geclassificeerden)\n",
    "\n",
    "print('Minimale precisie: ', minP, '\\nMaximale precisie: ', maxP, '\\nMinimale recall: ', minR, '\\nMaximale recall: ', maxR)\n",
    "print('\\nMaximale precisie en maximale recall: ')\n",
    "display(df)\n",
    "print('\\nMinimale precisie en minimale recall: ')\n",
    "display(df2)"
   ]
  },
  {
   "cell_type": "code",
   "execution_count": null,
   "metadata": {
    "deletable": false,
    "editable": false,
    "nbgrader": {
     "cell_type": "code",
     "checksum": "a56d9ca1e4e9022ad9be345db8f74966",
     "grade": true,
     "grade_id": "d3t",
     "locked": true,
     "points": 1,
     "schema_version": 3,
     "solution": false
    }
   },
   "outputs": [],
   "source": [
    "for m in {minP, maxP, minR, maxR}:\n",
    "    assert 0 <= m <= 1"
   ]
  },
  {
   "cell_type": "markdown",
   "metadata": {
    "deletable": false,
    "editable": false,
    "nbgrader": {
     "cell_type": "markdown",
     "checksum": "e1ea306fb1d739a7275347d865c0eb63",
     "grade": false,
     "grade_id": "d31",
     "locked": true,
     "schema_version": 3,
     "solution": false
    }
   },
   "source": [
    "## Variant \n",
    "\n",
    "Dezelde vraag als boven, maar nu hebben 5 op de 100 mensen de ziekte en hebben we juist een accuraatheid van .99"
   ]
  },
  {
   "cell_type": "code",
   "execution_count": null,
   "metadata": {
    "deletable": false,
    "nbgrader": {
     "cell_type": "code",
     "checksum": "03001f2a26e2a9dc1577e0b5ce22126a",
     "grade": false,
     "grade_id": "d31a",
     "locked": false,
     "schema_version": 3,
     "solution": true
    }
   },
   "outputs": [],
   "source": [
    "data3 = {\"has disease\": [\"500\", \"0\", \"500\"],\n",
    "        \"has no disease\": [\"100\", \"9400\", \"9500\"],\n",
    "        \"total\": [\"600\", \"9400\", \"10000\"]}\n",
    "df3 = pd.DataFrame(data3, columns = [\"has disease\", \"has no disease\", \"total\"], \n",
    "                  index = [\"test positive\", \"test negative\", \"total\"])\n",
    "\n",
    "data4 = {\"has disease\": [\"400\", \"100\", \"500\"],\n",
    "        \"has no disease\": [\"0\", \"9500\", \"9500\"],\n",
    "        \"total\": [\"400\", \"9600\", \"10000\"]}\n",
    "df4 = pd.DataFrame(data4, columns = [\"has disease\", \"has no disease\", \"total\"], \n",
    "                  index = [\"test positive\", \"test negative\", \"total\"])\n",
    "\n",
    "minP = 500 / 600 # precisie (minimale legitiem positieve tests t.o.v. alle positieve tests)\n",
    "maxP = 400 / 400 # precisie (maximale legitiem positieve tests t.o.v. alle positieve tests)\n",
    "minR = 400 / 500 # recall (minimale legitiem zieken t.o.v. alle ziek geclassificeerden)\n",
    "maxR = 500 / 500 # recall (maximale legitiem zieken t.o.v. alle ziek geclassificeerden)\n",
    "\n",
    "print('Minimale precisie: ', minP, '\\nMaximale precisie: ', maxP, '\\nMinimale recall: ', minR, '\\nMaximale recall: ', maxR)\n",
    "print('\\nMinimale precisie en maximale recall: ')\n",
    "display(df3)\n",
    "print('\\nMaximale precisie en minimale recall: ')\n",
    "display(df4)"
   ]
  },
  {
   "cell_type": "code",
   "execution_count": null,
   "metadata": {
    "deletable": false,
    "editable": false,
    "nbgrader": {
     "cell_type": "code",
     "checksum": "7f9643d029705f27fea092e91dca1687",
     "grade": true,
     "grade_id": "d31t",
     "locked": true,
     "points": 1,
     "schema_version": 3,
     "solution": false
    }
   },
   "outputs": [],
   "source": [
    "for m in {minP, maxP, minR, maxR}:\n",
    "    assert 0 <= m <= 1"
   ]
  },
  {
   "cell_type": "markdown",
   "metadata": {
    "deletable": false,
    "editable": false,
    "nbgrader": {
     "cell_type": "markdown",
     "checksum": "fab87c78d5e78a520d01a5f19d32b45e",
     "grade": false,
     "grade_id": "coronab",
     "locked": true,
     "schema_version": 3,
     "solution": false
    }
   },
   "source": [
    "# Deel 4 Corona: Wat is erger: besmettelijkheid of dodelijkheid?\n",
    "\n",
    "\n",
    "Bron: <https://www.nrc.nl/nieuws/2020/12/31/verdachte-virusvariant-met-opvallend-veel-mutaties-a4025804>\n",
    "\n",
    ">Wat is erger: besmettelijkheid of dodelijkheid? Op het eerste gezicht denk je het tweede. In de media is dan ook opluchting te bespeuren dat het virus weliswaar besmettelijker is, maar geen ernstiger ziekteverloop veroorzaakt. Maar is dat terecht? Adam Kucharski van de London School of Hygiene and Tropical Medicine [betoogde op Twitter](https://twitter.com/AdamJKucharski/status/1343567425107881986) van niet. Hij gaf het volgende getallenvoorbeeld:\n",
    "\n",
    ">Stel, R is 1,1. Dat wil zeggen dat tien besmette personen gemiddeld elf anderen besmetten. Stel, de generatietijd is zes dagen: het duurt zes dagen tot die tien mensen elf anderen hebben besmet, dus in 30 dagen vertakt die ‘besmettingsboom’ zich vijf keer. Stel, van alle besmette mensen overlijdt 0,8 procent. En stel, op tijdstip nul zijn 10.000 mensen besmet. Dan levert dat na een maand $10.000 × (1,1)^5 × 0,8\\% = 129$ doden op.\n",
    "\n",
    ">Wat gebeurt er dan als het virus door een mutatie 50 procent dodelijker wordt? Dan zijn na een maand $10.000 x (1,1)^5 × (0,8\\% × 1,5) = 193 $\n",
    "mensen overleden.\n",
    "\n",
    ">Als het virus door een mutatie echter 50 procent besmettelijker wordt, dan ligt het dodental bijna vijf keer zo hoog: $10.000 × (1,1 × 1,5)^5 × 0,8\\% = 978$ doden.\n",
    "\n",
    ">Hoe dat kan? De dodelijkheid correleert lineair met het aantal doden, maar voor besmettelijkheid is dat verband exponentieel.\n",
    "\n",
    "* Run onderstaande code. Snap wat er gebeurt. Snap je het verschil in aantal doden voor periode 0. En waarom is het gelijk in periode 1, en gaat het daarna (steeds sneller) uit elkaar lopen?\n",
    "* Check dat het aantal doden aan het eind van de maand in het artikel hetzelfde is als in de tabel bij periode 5.\n",
    "* En kijk eens hoe makkelijk je een plotje van zo'n spreadsheet maakt. Ideaal toch? Later in de cursus leren we hier meer over.\n",
    "\n",
    "## Klopt het wel? (1pt)\n",
    "\n",
    "1. De formule klopt natuurlijk, maar de uitkomst niet. Want als je een maand met een R van 1.1 zit heb je 6 \"generaties\", en dus in totaal veel meer besmette mensen gehad dan $10.000 x (1,1)^5$.  **Hoeveel meer dan?** **Bereken dat in de functie `aantal_geinfecteerden_na_periodes`.**\n",
    "2. En dus hebben we na een maand ook een ander aantal overledenen.  Bereken dat eens.\n",
    "\n"
   ]
  },
  {
   "cell_type": "code",
   "execution_count": null,
   "metadata": {
    "deletable": false,
    "editable": false,
    "nbgrader": {
     "cell_type": "code",
     "checksum": "5ce498e93b4c784b97b7426d60080fdd",
     "grade": false,
     "grade_id": "coronacode",
     "locked": true,
     "schema_version": 3,
     "solution": false
    }
   },
   "outputs": [],
   "source": [
    "# zoals in het artikel\n",
    "def aantaldoden(aantalbesmet=10**4,\n",
    "                overlijdingsratio=.008,\n",
    "                R=1.1,\n",
    "                hoeveelerger=1.5,\n",
    "                aantalperiodes=5):\n",
    "    return {\n",
    "        'dodelijker':\n",
    "        round(aantalbesmet * (R)**aantalperiodes * overlijdingsratio *\n",
    "              hoeveelerger),\n",
    "        'besmettelijker':\n",
    "        round(aantalbesmet * (R * hoeveelerger)**aantalperiodes *\n",
    "              overlijdingsratio)\n",
    "    }\n",
    "\n",
    "\n",
    "# 50 % erger\n",
    "A = {P: aantaldoden(hoeveelerger=1.5, aantalperiodes=P) for P in range(0, 6)}\n",
    "A = pd.DataFrame(A).T\n",
    "A.index.name = 'Periode'\n",
    "A.plot(kind='bar', title='Aantal doden van geinfecteerden in periode x.')\n",
    "A"
   ]
  },
  {
   "cell_type": "code",
   "execution_count": null,
   "metadata": {
    "deletable": false,
    "nbgrader": {
     "cell_type": "code",
     "checksum": "4432026a56aafbe16de496f93a360c92",
     "grade": false,
     "grade_id": "CA",
     "locked": false,
     "schema_version": 3,
     "solution": true
    }
   },
   "outputs": [],
   "source": [
    "def aantal_geinfecteerden_na_periodes(\n",
    "    aantalperiodes=6,\n",
    "    aantalbesmet=10**4,\n",
    "    R=1.1,\n",
    "):\n",
    "    '''Geef het totaal aantal geinfecteerde mensen terug na aantalperiodes generaties/periodes.\n",
    "    Rond af op een geheel getal.'''\n",
    "    # aantal geïnfecteerden, omdat 10000 mensen vervolgens 11000 anderen besmetten en er dus 21000 besmettingen zijn\n",
    "    return round(sum([aantalbesmet * (R)**periode for periode in range(aantalperiodes + 1)]))\n",
    "\n",
    "B = pd.Series({\n",
    "    P: round(aantal_geinfecteerden_na_periodes(aantalperiodes=P))\n",
    "    for P in range(21)\n",
    "})\n",
    "B.plot(kind='bar')\n",
    "B"
   ]
  },
  {
   "cell_type": "code",
   "execution_count": null,
   "metadata": {
    "deletable": false,
    "editable": false,
    "nbgrader": {
     "cell_type": "code",
     "checksum": "1282a78bda02294d3cb2d579eda73130",
     "grade": true,
     "grade_id": "CT",
     "locked": true,
     "points": 1,
     "schema_version": 3,
     "solution": false
    }
   },
   "outputs": [],
   "source": [
    "assert isinstance(aantal_geinfecteerden_na_periodes(), int)\n",
    "\n"
   ]
  },
  {
   "cell_type": "markdown",
   "metadata": {
    "deletable": false,
    "editable": false,
    "nbgrader": {
     "cell_type": "markdown",
     "checksum": "60aa49d729ffaa7badb23418b29c851e",
     "grade": false,
     "grade_id": "C2",
     "locked": true,
     "schema_version": 3,
     "solution": false
    }
   },
   "source": [
    "## Aangepast dataframe (1pt)\n",
    "\n",
    "Bekijk de code hierboven nog eens waarin het Dataframe `A` gemaakt werd. Pas die code aan, zodat je daarmee het dataframe `AA` maakt dat de juiste aantallen print. `AA` heeft dezelfde *shape* als `A`, en ook dezelfde index en kolom namen. Alleen de waardes zijn anders. \n",
    "\n",
    "* Apprecieer ook het verschil in de titels tussen de twee plotjes."
   ]
  },
  {
   "cell_type": "code",
   "execution_count": null,
   "metadata": {
    "deletable": false,
    "nbgrader": {
     "cell_type": "code",
     "checksum": "902cfe87999c9c9bdbbaf6f209269930",
     "grade": false,
     "grade_id": "C2A",
     "locked": false,
     "schema_version": 3,
     "solution": true
    }
   },
   "outputs": [],
   "source": [
    "# nieuw dataframe waarbij het aantal doden wordt opgeteld bij het aantal doden uit een rij eerder\n",
    "AA = np.cumsum(A, axis=0)\n",
    "\n",
    "T = 'Totaal aantal doden na x periodes van 6 dagen.'\n",
    "AA.plot(kind='bar', title=T)\n",
    "AA"
   ]
  },
  {
   "cell_type": "code",
   "execution_count": null,
   "metadata": {
    "deletable": false,
    "editable": false,
    "nbgrader": {
     "cell_type": "code",
     "checksum": "a83fc67bdc9ec47724223ab5a7a07a48",
     "grade": true,
     "grade_id": "C2T",
     "locked": true,
     "points": 1,
     "schema_version": 3,
     "solution": false
    }
   },
   "outputs": [],
   "source": [
    "assert_equal(AA.shape, (6, 2))  # 2 kolommen, 6 rijen\n",
    "assert_equal(list(AA.index) == list(range(6)),\n",
    "             True)  # de index van AA is [0,1,2,3,4,5]\n",
    "\n"
   ]
  },
  {
   "cell_type": "code",
   "execution_count": null,
   "metadata": {},
   "outputs": [],
   "source": []
  }
 ],
 "metadata": {
  "anaconda-cloud": {},
  "hide_input": false,
  "kernelspec": {
   "display_name": "Python 3",
   "language": "python",
   "name": "python3"
  },
  "language_info": {
   "codemirror_mode": {
    "name": "ipython",
    "version": 3
   },
   "file_extension": ".py",
   "mimetype": "text/x-python",
   "name": "python",
   "nbconvert_exporter": "python",
   "pygments_lexer": "ipython3",
   "version": "3.8.8"
  },
  "toc": {
   "nav_menu": {},
   "number_sections": true,
   "sideBar": true,
   "skip_h1_title": false,
   "title_cell": "Table of Contents",
   "title_sidebar": "Contents",
   "toc_cell": true,
   "toc_position": {},
   "toc_section_display": true,
   "toc_window_display": false
  },
  "varInspector": {
   "cols": {
    "lenName": 16,
    "lenType": 16,
    "lenVar": 40
   },
   "kernels_config": {
    "python": {
     "delete_cmd_postfix": "",
     "delete_cmd_prefix": "del ",
     "library": "var_list.py",
     "varRefreshCmd": "print(var_dic_list())"
    },
    "r": {
     "delete_cmd_postfix": ") ",
     "delete_cmd_prefix": "rm(",
     "library": "var_list.r",
     "varRefreshCmd": "cat(var_dic_list()) "
    }
   },
   "types_to_exclude": [
    "module",
    "function",
    "builtin_function_or_method",
    "instance",
    "_Feature"
   ],
   "window_display": false
  }
 },
 "nbformat": 4,
 "nbformat_minor": 1
}
